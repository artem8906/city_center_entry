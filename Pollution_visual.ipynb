{
 "cells": [
  {
   "cell_type": "markdown",
   "metadata": {},
   "source": [
    "Vizualizácia dát v Bratislave - staré mesto:    "
   ]
  },
  {
   "cell_type": "code",
   "execution_count": 26,
   "metadata": {},
   "outputs": [
    {
     "name": "stdout",
     "output_type": "stream",
     "text": [
      "[6, 6, 6, 6, 7, 7, 7, 7, 8, 8, 8, 8, 9, 9, 9, 9, 10, 10, 10, 10, 11, 11, 11, 11, 12, 12, 12, 12, 13, 13, 13, 13, 14, 14, 14, 14, 15, 15, 15, 15, 16, 16, 16, 16, 17, 17, 17, 17, 18, 18, 18, 18, 19, 19, 19, 19]\n"
     ]
    }
   ],
   "source": [
    "import pandas as pd\n",
    "import random\n",
    "\n",
    "# náhodné dáta na vizualizáciu znečistenia ovzdušia na základe senzorom uložených pri vstupe do mesta\n",
    "data = {\n",
    "    \"Latitude\": [48.1423, 48.1432, 48.1418, 48.1439] * 14,\n",
    "    \"Longitude\": [17.1082, 17.1093, 17.1098, 17.1102] * 14,\n",
    "    \"Hour\": [h for h in range(6, 20) for _ in range(4)],\n",
    "     \"Pollution_Level\": [random.randint(1, 512) for _ in range(56)]\n",
    "}\n",
    "\n",
    "latitude_length = len(data[\"Latitude\"])\n",
    "longitude_length = len(data[\"Longitude\"])\n",
    "hour_length = len(data[\"Hour\"])\n",
    "pollution_level_length = len(data[\"Pollution_Level\"])\n",
    "\n",
    "df = pd.DataFrame(data)\n",
    "print(data[\"Hour\"])"
   ]
  },
  {
   "cell_type": "code",
   "execution_count": 39,
   "metadata": {},
   "outputs": [],
   "source": [
    "# Create a base map centered around Bratislava's Old Town\n",
    "import folium\n",
    "from folium.plugins import HeatMap\n",
    "\n",
    "m = folium.Map(location=[48.1425, 17.1092], zoom_start=20)\n",
    "\n",
    "heatmap_data = [\n",
    "    [row[\"Latitude\"], row[\"Longitude\"], row[\"Pollution_Level\"]] for idx, row in df.iterrows()\n",
    "]\n",
    "\n",
    "# Add the heatmap to the map\n",
    "HeatMap(heatmap_data).add_to(m)\n",
    "\n",
    "m.save(\"bratislava_pollution_heatmap.html\")"
   ]
  },
  {
   "cell_type": "code",
   "execution_count": null,
   "metadata": {},
   "outputs": [],
   "source": []
  },
  {
   "cell_type": "markdown",
   "metadata": {},
   "source": [
    "Animacia:"
   ]
  },
  {
   "cell_type": "code",
   "execution_count": 20,
   "metadata": {},
   "outputs": [],
   "source": [
    "import folium\n",
    "from folium.plugins import HeatMapWithTime\n",
    "\n",
    "#Mapa - zoom na stare mesto\n",
    "m = folium.Map(location=[48.1425, 17.1092], zoom_start=16)\n",
    "\n",
    "# Organize data for the heatmap animation\n",
    "hourly_data = []\n",
    "for hour in range(6, 20): # od 06:00 do 19:00\n",
    "    hourly_df = df[df[\"Hour\"] == hour]\n",
    "    hourly_list = [[row[\"Latitude\"], row[\"Longitude\"], row[\"Pollution_Level\"]] for idx, row in hourly_df.iterrows()]\n",
    "    hourly_data.append(hourly_list)\n",
    "\n",
    "HeatMapWithTime(hourly_data, auto_play=True, max_opacity=0.8, use_local_extrema=True,radius=99).add_to(m)\n",
    "\n",
    "m.save(\"bratislava_pollution_hodinova.html\")"
   ]
  },
  {
   "cell_type": "markdown",
   "metadata": {},
   "source": [
    "Zmena na frames do prezentacie:"
   ]
  },
  {
   "cell_type": "code",
   "execution_count": 40,
   "metadata": {},
   "outputs": [
    {
     "name": "stderr",
     "output_type": "stream",
     "text": [
      "C:\\Users\\henox\\AppData\\Local\\Temp\\ipykernel_32780\\792256551.py:27: UserWarning: The `max_val` parameter is no longer necessary. The largest intensity is calculated automatically.\n",
      "  HeatMap(data_hour, radius=30, gradient={0.2: 'blue', 0.4: 'lime', 0.6: 'yellow', 1: 'red'}, max_val=float(max(df['Pollution_Level'])), min_val=float(min(df['Pollution_Level']))).add_to(m)\n",
      "C:\\Users\\henox\\AppData\\Local\\Temp\\ipykernel_32780\\792256551.py:27: UserWarning: The `max_val` parameter is no longer necessary. The largest intensity is calculated automatically.\n",
      "  HeatMap(data_hour, radius=30, gradient={0.2: 'blue', 0.4: 'lime', 0.6: 'yellow', 1: 'red'}, max_val=float(max(df['Pollution_Level'])), min_val=float(min(df['Pollution_Level']))).add_to(m)\n",
      "C:\\Users\\henox\\AppData\\Local\\Temp\\ipykernel_32780\\792256551.py:27: UserWarning: The `max_val` parameter is no longer necessary. The largest intensity is calculated automatically.\n",
      "  HeatMap(data_hour, radius=30, gradient={0.2: 'blue', 0.4: 'lime', 0.6: 'yellow', 1: 'red'}, max_val=float(max(df['Pollution_Level'])), min_val=float(min(df['Pollution_Level']))).add_to(m)\n",
      "C:\\Users\\henox\\AppData\\Local\\Temp\\ipykernel_32780\\792256551.py:27: UserWarning: The `max_val` parameter is no longer necessary. The largest intensity is calculated automatically.\n",
      "  HeatMap(data_hour, radius=30, gradient={0.2: 'blue', 0.4: 'lime', 0.6: 'yellow', 1: 'red'}, max_val=float(max(df['Pollution_Level'])), min_val=float(min(df['Pollution_Level']))).add_to(m)\n",
      "C:\\Users\\henox\\AppData\\Local\\Temp\\ipykernel_32780\\792256551.py:27: UserWarning: The `max_val` parameter is no longer necessary. The largest intensity is calculated automatically.\n",
      "  HeatMap(data_hour, radius=30, gradient={0.2: 'blue', 0.4: 'lime', 0.6: 'yellow', 1: 'red'}, max_val=float(max(df['Pollution_Level'])), min_val=float(min(df['Pollution_Level']))).add_to(m)\n",
      "C:\\Users\\henox\\AppData\\Local\\Temp\\ipykernel_32780\\792256551.py:27: UserWarning: The `max_val` parameter is no longer necessary. The largest intensity is calculated automatically.\n",
      "  HeatMap(data_hour, radius=30, gradient={0.2: 'blue', 0.4: 'lime', 0.6: 'yellow', 1: 'red'}, max_val=float(max(df['Pollution_Level'])), min_val=float(min(df['Pollution_Level']))).add_to(m)\n",
      "C:\\Users\\henox\\AppData\\Local\\Temp\\ipykernel_32780\\792256551.py:27: UserWarning: The `max_val` parameter is no longer necessary. The largest intensity is calculated automatically.\n",
      "  HeatMap(data_hour, radius=30, gradient={0.2: 'blue', 0.4: 'lime', 0.6: 'yellow', 1: 'red'}, max_val=float(max(df['Pollution_Level'])), min_val=float(min(df['Pollution_Level']))).add_to(m)\n",
      "C:\\Users\\henox\\AppData\\Local\\Temp\\ipykernel_32780\\792256551.py:27: UserWarning: The `max_val` parameter is no longer necessary. The largest intensity is calculated automatically.\n",
      "  HeatMap(data_hour, radius=30, gradient={0.2: 'blue', 0.4: 'lime', 0.6: 'yellow', 1: 'red'}, max_val=float(max(df['Pollution_Level'])), min_val=float(min(df['Pollution_Level']))).add_to(m)\n",
      "C:\\Users\\henox\\AppData\\Local\\Temp\\ipykernel_32780\\792256551.py:27: UserWarning: The `max_val` parameter is no longer necessary. The largest intensity is calculated automatically.\n",
      "  HeatMap(data_hour, radius=30, gradient={0.2: 'blue', 0.4: 'lime', 0.6: 'yellow', 1: 'red'}, max_val=float(max(df['Pollution_Level'])), min_val=float(min(df['Pollution_Level']))).add_to(m)\n",
      "C:\\Users\\henox\\AppData\\Local\\Temp\\ipykernel_32780\\792256551.py:27: UserWarning: The `max_val` parameter is no longer necessary. The largest intensity is calculated automatically.\n",
      "  HeatMap(data_hour, radius=30, gradient={0.2: 'blue', 0.4: 'lime', 0.6: 'yellow', 1: 'red'}, max_val=float(max(df['Pollution_Level'])), min_val=float(min(df['Pollution_Level']))).add_to(m)\n",
      "C:\\Users\\henox\\AppData\\Local\\Temp\\ipykernel_32780\\792256551.py:27: UserWarning: The `max_val` parameter is no longer necessary. The largest intensity is calculated automatically.\n",
      "  HeatMap(data_hour, radius=30, gradient={0.2: 'blue', 0.4: 'lime', 0.6: 'yellow', 1: 'red'}, max_val=float(max(df['Pollution_Level'])), min_val=float(min(df['Pollution_Level']))).add_to(m)\n",
      "C:\\Users\\henox\\AppData\\Local\\Temp\\ipykernel_32780\\792256551.py:27: UserWarning: The `max_val` parameter is no longer necessary. The largest intensity is calculated automatically.\n",
      "  HeatMap(data_hour, radius=30, gradient={0.2: 'blue', 0.4: 'lime', 0.6: 'yellow', 1: 'red'}, max_val=float(max(df['Pollution_Level'])), min_val=float(min(df['Pollution_Level']))).add_to(m)\n",
      "C:\\Users\\henox\\AppData\\Local\\Temp\\ipykernel_32780\\792256551.py:27: UserWarning: The `max_val` parameter is no longer necessary. The largest intensity is calculated automatically.\n",
      "  HeatMap(data_hour, radius=30, gradient={0.2: 'blue', 0.4: 'lime', 0.6: 'yellow', 1: 'red'}, max_val=float(max(df['Pollution_Level'])), min_val=float(min(df['Pollution_Level']))).add_to(m)\n"
     ]
    },
    {
     "name": "stdout",
     "output_type": "stream",
     "text": [
      "Frames saved in the 'frames' directory.\n"
     ]
    },
    {
     "name": "stderr",
     "output_type": "stream",
     "text": [
      "C:\\Users\\henox\\AppData\\Local\\Temp\\ipykernel_32780\\792256551.py:27: UserWarning: The `max_val` parameter is no longer necessary. The largest intensity is calculated automatically.\n",
      "  HeatMap(data_hour, radius=30, gradient={0.2: 'blue', 0.4: 'lime', 0.6: 'yellow', 1: 'red'}, max_val=float(max(df['Pollution_Level'])), min_val=float(min(df['Pollution_Level']))).add_to(m)\n"
     ]
    }
   ],
   "source": [
    "import numpy as np\n",
    "import pandas as pd\n",
    "import folium\n",
    "from folium.plugins import HeatMap\n",
    "import branca.colormap as cm\n",
    "import matplotlib.pyplot as plt\n",
    "import os\n",
    "from matplotlib import colors as mcolors\n",
    "\n",
    "m = folium.Map(location=[48.1425, 17.1090], zoom_start=20, control_scale=True)\n",
    "\n",
    "# Define the color map\n",
    "colors = list(plt.cm.inferno(np.linspace(0, 1, 256)))\n",
    "colors = [mcolors.rgb2hex(c) for c in colors]\n",
    "colormap = cm.StepColormap(colors, vmin=min(df['Pollution_Level']), vmax=max(df['Pollution_Level']), index=np.linspace(min(df['Pollution_Level']), max(df['Pollution_Level']), 256))\n",
    "\n",
    "m.add_child(colormap)\n",
    "\n",
    "frames_folder = \"frames\"\n",
    "if not os.path.exists(frames_folder):\n",
    "    os.makedirs(frames_folder)\n",
    "\n",
    "# Generate heatmap frames for each hour\n",
    "for hour in df['Hour'].unique():\n",
    "    data_hour = df[df['Hour'] == hour][['Latitude', 'Longitude', 'Pollution_Level']].groupby(['Latitude', 'Longitude']).mean().reset_index().values.tolist()\n",
    "    \n",
    "    HeatMap(data_hour, radius=30, gradient={0.2: 'blue', 0.4: 'lime', 0.6: 'yellow', 1: 'red'}, max_val=float(max(df['Pollution_Level'])), min_val=float(min(df['Pollution_Level']))).add_to(m)\n",
    "    \n",
    "    # Check if the title exists, replace it; otherwise, add it\n",
    "    if 'title' in m.get_root().html._children:\n",
    "        m.get_root().html._children['title'] = folium.Element(f'<h3 align=\"center\" style=\"font-size:20px\"><b>Znečistenie ovzdušia o: {hour}:00</b></h3>')\n",
    "    else:\n",
    "        title_html = f'<h3 align=\"center\" style=\"font-size:20px\"><b>Znečistenie ovzdušia o: {hour}:00</b></h3>'\n",
    "        m.get_root().html.add_child(folium.Element(title_html), name='title')\n",
    "    \n",
    "    m.save(os.path.join(frames_folder, f\"hour_{hour}.html\"))\n",
    "    for child in list(m._children):\n",
    "        if child.startswith('HeatMap'):\n",
    "            del m._children[child]\n",
    "\n",
    "print(f\"Frames saved in the '{frames_folder}' directory.\")\n"
   ]
  }
 ],
 "metadata": {
  "kernelspec": {
   "display_name": "stylegan3",
   "language": "python",
   "name": "python3"
  },
  "language_info": {
   "codemirror_mode": {
    "name": "ipython",
    "version": 3
   },
   "file_extension": ".py",
   "mimetype": "text/x-python",
   "name": "python",
   "nbconvert_exporter": "python",
   "pygments_lexer": "ipython3",
   "version": "3.9.16"
  },
  "orig_nbformat": 4
 },
 "nbformat": 4,
 "nbformat_minor": 2
}
